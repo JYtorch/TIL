{
 "cells": [
  {
   "cell_type": "code",
   "execution_count": 64,
   "id": "25128f88",
   "metadata": {},
   "outputs": [],
   "source": [
    "def list_sum(args):\n",
    "    args = tuple(args)\n",
    "    total = 0\n",
    "    for arg in args:\n",
    "        total += arg\n",
    "    return total \n",
    "\n",
    "list_sum([1, 2, 3, 4, 5])    "
   ]
  },
  {
   "cell_type": "code",
   "execution_count": 85,
   "id": "c4d8a573",
   "metadata": {},
   "outputs": [
    {
     "data": {
      "text/plain": [
       "16"
      ]
     },
     "execution_count": 85,
     "metadata": {},
     "output_type": "execute_result"
    }
   ],
   "source": [
    "def dict_list_sum(args):\n",
    "    result = 0\n",
    "    for arg in args: \n",
    "        result += arg['age']\n",
    "    return result\n",
    "\n",
    "dict_list_sum([\n",
    "    {'name': 'kim', 'age': 12},\n",
    "    {'name': 'lee', 'age': 4}\n",
    "])"
   ]
  },
  {
   "cell_type": "code",
   "execution_count": 84,
   "id": "c0e4e214",
   "metadata": {},
   "outputs": [
    {
     "data": {
      "text/plain": [
       "55"
      ]
     },
     "execution_count": 84,
     "metadata": {},
     "output_type": "execute_result"
    }
   ],
   "source": [
    "def all_list_sum(args):\n",
    "    total = 0\n",
    "    for arg in args:\n",
    "        for i in arg:\n",
    "            total += i\n",
    "    return total\n",
    "\n",
    "all_list_sum([[1], [2, 3], [4, 5, 6], [7, 8, 9, 10]])"
   ]
  }
 ],
 "metadata": {
  "kernelspec": {
   "display_name": "Python 3 (ipykernel)",
   "language": "python",
   "name": "python3"
  },
  "language_info": {
   "codemirror_mode": {
    "name": "ipython",
    "version": 3
   },
   "file_extension": ".py",
   "mimetype": "text/x-python",
   "name": "python",
   "nbconvert_exporter": "python",
   "pygments_lexer": "ipython3",
   "version": "3.9.6"
  }
 },
 "nbformat": 4,
 "nbformat_minor": 5
}
